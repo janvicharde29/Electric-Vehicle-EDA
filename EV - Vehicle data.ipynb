{
 "cells": [
  {
   "cell_type": "markdown",
   "id": "017aba2d",
   "metadata": {},
   "source": [
    "# TASK-1"
   ]
  },
  {
   "cell_type": "markdown",
   "id": "f51d5d6c",
   "metadata": {},
   "source": [
    " Exploratory Data Analysis (Univariate and Bivariate) \n"
   ]
  },
  {
   "cell_type": "code",
   "execution_count": null,
   "id": "c5b7eec8",
   "metadata": {},
   "outputs": [],
   "source": [
    "import pandas as pd\n",
    "import matplotlib.pyplot as plt\n",
    "import seaborn as sns"
   ]
  },
  {
   "cell_type": "code",
   "execution_count": null,
   "id": "8d1fe498",
   "metadata": {},
   "outputs": [],
   "source": [
    "data = pd.read_csv(\"dataset.csv\")"
   ]
  },
  {
   "cell_type": "code",
   "execution_count": null,
   "id": "449b3fd3",
   "metadata": {
    "scrolled": true
   },
   "outputs": [],
   "source": [
    "data"
   ]
  },
  {
   "cell_type": "code",
   "execution_count": null,
   "id": "8f7a9f07",
   "metadata": {},
   "outputs": [],
   "source": [
    "data.info()"
   ]
  },
  {
   "cell_type": "code",
   "execution_count": null,
   "id": "9b73872d",
   "metadata": {},
   "outputs": [],
   "source": [
    "data.describe()"
   ]
  },
  {
   "cell_type": "code",
   "execution_count": null,
   "id": "e48c003b",
   "metadata": {},
   "outputs": [],
   "source": [
    "data.shape"
   ]
  },
  {
   "cell_type": "code",
   "execution_count": null,
   "id": "399ccc48",
   "metadata": {},
   "outputs": [],
   "source": [
    "data.isnull().sum()"
   ]
  },
  {
   "cell_type": "code",
   "execution_count": null,
   "id": "a3db42fd",
   "metadata": {},
   "outputs": [],
   "source": [
    "data.select_dtypes(include=['object']).nunique()"
   ]
  },
  {
   "cell_type": "code",
   "execution_count": null,
   "id": "7bfecb01",
   "metadata": {},
   "outputs": [],
   "source": [
    "data.select_dtypes(include=['object']).apply(lambda x: x.value_counts().head())"
   ]
  },
  {
   "cell_type": "code",
   "execution_count": null,
   "id": "1c73cd30",
   "metadata": {},
   "outputs": [],
   "source": [
    "# Correlation matrix for numerical columns\n",
    "data[['Postal Code', 'Model Year', 'Electric Range', 'Base MSRP', 'Legislative District', 'DOL Vehicle ID', '2020 Census Tract']].corr()\n"
   ]
  },
  {
   "cell_type": "code",
   "execution_count": null,
   "id": "93793f40",
   "metadata": {},
   "outputs": [],
   "source": [
    "# Percentage of missing values\n",
    "data[['Model', 'Legislative District', 'Vehicle Location', 'Electric Utility']].isnull().mean() * 100\n"
   ]
  },
  {
   "cell_type": "code",
   "execution_count": null,
   "id": "0ccc0924",
   "metadata": {},
   "outputs": [],
   "source": [
    "# Unique values in specific categorical columns\n",
    "data['Make'].unique()\n",
    "data['Electric Vehicle Type'].unique()\n"
   ]
  },
  {
   "cell_type": "code",
   "execution_count": null,
   "id": "ccded86e",
   "metadata": {},
   "outputs": [],
   "source": [
    "sns.histplot(data['Model Year'],bins=20, color='blue')\n",
    "plt.title('distribution of vehicle model years')\n",
    "plt.xlabel('Model Year')\n",
    "plt.ylabel('Frequency')\n",
    "plt.show()"
   ]
  },
  {
   "cell_type": "code",
   "execution_count": null,
   "id": "f4989efc",
   "metadata": {},
   "outputs": [],
   "source": [
    "most_frequent_years = data['Model Year'].value_counts().head()\n",
    "print(\"Most Frequent Model Years:\\n\", most_frequent_years)"
   ]
  },
  {
   "cell_type": "code",
   "execution_count": null,
   "id": "8325da64",
   "metadata": {},
   "outputs": [],
   "source": [
    "print(\"Descriptive Statistics for Electric Range:\\n\", data['Electric Range'].describe())"
   ]
  },
  {
   "cell_type": "code",
   "execution_count": null,
   "id": "d25d1565",
   "metadata": {},
   "outputs": [],
   "source": [
    "plt.figure(figsize=(12,6))\n",
    "sns.histplot(data['Electric Range'] ,bins = 30,color ='green')\n",
    "plt.title('Distribution of Electric Range')\n",
    "plt.xlabel('Electric Range')\n",
    "plt.ylabel('frequency')\n",
    "sns.set(style='darkgrid')\n",
    "plt.show()"
   ]
  },
  {
   "cell_type": "code",
   "execution_count": null,
   "id": "1166fe08",
   "metadata": {},
   "outputs": [],
   "source": [
    "plt.figure(figsize=(8,6))\n",
    "sns.boxplot(data['Electric Range'], color='green')\n",
    "plt.title('Boxplot of Electric Range')\n",
    "plt.xlabel('Electric Range (miles)')\n",
    "plt.show()"
   ]
  },
  {
   "cell_type": "code",
   "execution_count": null,
   "id": "204ae63e",
   "metadata": {},
   "outputs": [],
   "source": [
    "plt.figure(figsize=(8,6))\n",
    "sns.histplot(data['Base MSRP'], bins=30, kde=False, color='red')\n",
    "plt.title('Distribution of Base MSRP')\n",
    "plt.xlabel('Base MSRP (USD)')\n",
    "plt.ylabel('Frequency')\n",
    "plt.show()\n"
   ]
  },
  {
   "cell_type": "code",
   "execution_count": null,
   "id": "7caeee6f",
   "metadata": {},
   "outputs": [],
   "source": [
    "plt.figure(figsize=(10,6))\n",
    "data['Make'].value_counts().head(10).plot(kind='bar', color='purple')\n",
    "plt.title('Top 10 Electric Vehicle Manufacturers')\n",
    "plt.xlabel('Manufacturer')\n",
    "plt.ylabel('Frequency')\n",
    "plt.show()"
   ]
  },
  {
   "cell_type": "code",
   "execution_count": null,
   "id": "8cbb9750",
   "metadata": {},
   "outputs": [],
   "source": [
    "plt.figure(figsize=(10,6))\n",
    "data['Model'].value_counts().head(10).plot(kind='bar', color='orange')\n",
    "plt.title('Top 10 Electric Vehicle Models')\n",
    "plt.xlabel('Model')\n",
    "plt.ylabel('Frequency')\n",
    "plt.show()"
   ]
  },
  {
   "cell_type": "code",
   "execution_count": null,
   "id": "2c9fd4ee",
   "metadata": {},
   "outputs": [],
   "source": [
    "# Scatter plot: Electric Range vs Base MSRP\n",
    "plt.figure(figsize=(8,6))\n",
    "sns.scatterplot(x='Electric Range', y='Base MSRP', data=data, color='blue')\n",
    "plt.title('Electric Range vs Base MSRP')\n",
    "plt.xlabel('Electric Range (miles)')\n",
    "plt.ylabel('Base MSRP (USD)')\n",
    "plt.show()\n"
   ]
  },
  {
   "cell_type": "code",
   "execution_count": null,
   "id": "1096d9eb",
   "metadata": {},
   "outputs": [],
   "source": [
    "\n",
    "# Correlation between Electric Range and Base MSRP\n",
    "correlation = data[['Electric Range', 'Base MSRP']].corr()\n",
    "print(\"Correlation between Electric Range and Base MSRP:\\n\", correlation)\n",
    "sns.heatmap(correlation, cmap='coolwarm')\n",
    "plt.title('Electric Range and Base MSRP')\n",
    "plt.show()\n"
   ]
  },
  {
   "cell_type": "code",
   "execution_count": null,
   "id": "a7c5cd7c",
   "metadata": {},
   "outputs": [],
   "source": [
    "plt.figure(figsize=(8,6))\n",
    "sns.lineplot(x='Model Year', y='Base MSRP', data=data, marker='o', color='green')\n",
    "plt.title('Model Year vs Base MSRP (Line Plot)')\n",
    "plt.xlabel('Model Year')\n",
    "plt.ylabel('Base MSRP (USD)')\n",
    "plt.show()"
   ]
  },
  {
   "cell_type": "code",
   "execution_count": null,
   "id": "fb1b43d9",
   "metadata": {},
   "outputs": [],
   "source": [
    "plt.figure(figsize=(12,6))\n",
    "sns.boxplot(x='Make', y='Electric Range', data=data)\n",
    "plt.xticks(rotation=90)\n",
    "plt.title('Make vs Electric Range')\n",
    "plt.xlabel('Make')\n",
    "plt.ylabel('Electric Range (miles)')\n",
    "plt.show()"
   ]
  },
  {
   "cell_type": "code",
   "execution_count": null,
   "id": "badd8fb5",
   "metadata": {},
   "outputs": [],
   "source": [
    "make_vs_type = pd.crosstab(data['Make'], data['Electric Vehicle Type'])\n",
    "\n",
    "# Visualize with a heatmap\n",
    "plt.figure(figsize=(12,8))\n",
    "sns.heatmap(make_vs_type, cmap=\"Blues\", annot=True, fmt=\"d\")\n",
    "plt.title('Make vs Electric Vehicle Type')\n",
    "plt.xlabel('Electric Vehicle Type')\n",
    "plt.ylabel('Make')\n",
    "plt.show()"
   ]
  },
  {
   "cell_type": "code",
   "execution_count": null,
   "id": "84b90a07",
   "metadata": {},
   "outputs": [],
   "source": [
    "# Handling missing values (example)\n",
    "# For numerical columns: Use median for imputation\n",
    "data['Legislative District'].fillna(data['Legislative District'].median(), inplace=True)\n",
    "\n",
    "# For categorical columns: Fill with 'Unknown'\n",
    "data['Vehicle Location'].fillna('Unknown', inplace=True)\n",
    "data['Electric Utility'].fillna('Unknown', inplace=True)\n",
    "\n",
    "# Verify missing values are handled\n",
    "print(\"Missing Values After Imputation:\\n\", data.isnull().sum())\n"
   ]
  },
  {
   "cell_type": "markdown",
   "id": "714b8628",
   "metadata": {},
   "source": [
    "\n",
    "# Task - 2"
   ]
  },
  {
   "cell_type": "code",
   "execution_count": null,
   "id": "a7b0d2ac",
   "metadata": {},
   "outputs": [],
   "source": [
    "import plotly.express as px"
   ]
  },
  {
   "cell_type": "code",
   "execution_count": null,
   "id": "b0a2f4db",
   "metadata": {},
   "outputs": [],
   "source": [
    "px.scatter(data, x= 'Model Year' , y='Electric Range')"
   ]
  },
  {
   "cell_type": "code",
   "execution_count": null,
   "id": "9f5bb7c9",
   "metadata": {},
   "outputs": [],
   "source": [
    " px.box(data, y=\"DOL Vehicle ID\", title=\"Box Plot of DOL Vehicle ID\", \n",
    "             labels={\"DOL Vehicle ID\": \"DOL Vehicle ID\"},\n",
    "             width=800, height=500)\n"
   ]
  },
  {
   "cell_type": "code",
   "execution_count": null,
   "id": "9ea21765",
   "metadata": {},
   "outputs": [],
   "source": [
    "px.box(data, x=\"Make\", y=\"DOL Vehicle ID\", title=\"Bivariate Box Plot of DOL Vehicle ID by Make\")"
   ]
  },
  {
   "cell_type": "code",
   "execution_count": null,
   "id": "91e036c0",
   "metadata": {},
   "outputs": [],
   "source": [
    "px.pie(data, names='Make', values='Base MSRP',\n",
    "             title='Distribution of Base MSRP by Make')"
   ]
  },
  {
   "cell_type": "code",
   "execution_count": null,
   "id": "2544cdeb",
   "metadata": {},
   "outputs": [],
   "source": [
    "px.choropleth(data,\n",
    "                    locations='State',  \n",
    "                    locationmode='USA-states',  \n",
    "                    color='Electric Range', \n",
    "                    title='Electric Range by State')"
   ]
  },
  {
   "cell_type": "code",
   "execution_count": null,
   "id": "60b2be34",
   "metadata": {},
   "outputs": [],
   "source": [
    " px.choropleth(data, locations='State', locationmode='USA-states', color='Base MSRP', animation_frame='Model Year', \n",
    "                              title='Base MSRP by State Over Model Year',\n",
    "                              scope='usa',  \n",
    "                              color_continuous_scale='Viridis')"
   ]
  },
  {
   "cell_type": "markdown",
   "id": "fa3f5729",
   "metadata": {},
   "source": [
    "# task - 03"
   ]
  },
  {
   "cell_type": "code",
   "execution_count": null,
   "id": "5f1a312c",
   "metadata": {},
   "outputs": [],
   "source": [
    "import bar_chart_race as bcr"
   ]
  },
  {
   "cell_type": "code",
   "execution_count": null,
   "id": "18510ffc",
   "metadata": {},
   "outputs": [],
   "source": [
    "import bar_chart_race\n",
    "print(bar_chart_race.__version__)\n"
   ]
  },
  {
   "cell_type": "code",
   "execution_count": null,
   "id": "a87a4b84",
   "metadata": {},
   "outputs": [],
   "source": [
    "import bar_chart_race as bcr\n",
    "\n",
    "# Assuming 'df' contains your EV data\n",
    "ev_make_counts = data.groupby(['Model Year', 'Make']).size().unstack().fillna(0)\n",
    "\n",
    "bcr.bar_chart_race(\n",
    "    df=ev_make_counts,\n",
    "    filename='ev_make_racing_bar.mp4',\n",
    "    orientation='h',\n",
    "    sort='desc',\n",
    "    title='EV Make Count Over the Years',\n",
    "    steps_per_period=50,\n",
    "    period_length=2000,\n",
    "    period_label={'x': .95, 'y': .15, 'ha': 'right', 'va': 'center', 'size': 72, 'weight': 'semibold'},\n",
    "    bar_kwargs={'alpha': .99, 'lw': 0},\n",
    "    period_fmt='{x:.0f}',\n",
    ")\n"
   ]
  },
  {
   "cell_type": "code",
   "execution_count": null,
   "id": "edbb1f33",
   "metadata": {},
   "outputs": [],
   "source": [
    "ev_sales_counts = data.groupby(['Model Year', 'Make']).size().unstack().fillna(0)\n",
    "\n",
    "# Create the racing bar chart animation\n",
    "bcr.bar_chart_race(\n",
    "    df=ev_sales_counts,\n",
    "    filename='year_wise_sales_make_race.mp4',  # Output video file name\n",
    "    orientation='h',                              # Horizontal bars\n",
    "    sort='desc',                                  # Sort bars in descending order\n",
    "    n_bars=10,                                    # Show top 10 makes\n",
    "    steps_per_period=50,                          # Frames per period (year)\n",
    "    period_length=2000,                           # Duration of each period in milliseconds\n",
    "    title='Year-wise Sales of EV Makes Over the year',\n",
    "    bar_kwargs={'alpha': .99, 'lw': 0},          # Bar transparency and line width\n",
    "    period_label={'x': .95, 'y': .15,            # Position and style of the period label\n",
    "                  'ha': 'right', 'va': 'center',\n",
    "                  'size': 72, 'weight': 'semibold'},\n",
    "    period_fmt='{x:.0f}',                         # Format for the period label\n",
    ")"
   ]
  },
  {
   "cell_type": "code",
   "execution_count": null,
   "id": "d4e6b82d",
   "metadata": {},
   "outputs": [],
   "source": []
  }
 ],
 "metadata": {
  "kernelspec": {
   "display_name": "Python 3 (ipykernel)",
   "language": "python",
   "name": "python3"
  },
  "language_info": {
   "codemirror_mode": {
    "name": "ipython",
    "version": 3
   },
   "file_extension": ".py",
   "mimetype": "text/x-python",
   "name": "python",
   "nbconvert_exporter": "python",
   "pygments_lexer": "ipython3",
   "version": "3.11.3"
  }
 },
 "nbformat": 4,
 "nbformat_minor": 5
}
